{
  "nbformat": 4,
  "nbformat_minor": 0,
  "metadata": {
    "colab": {
      "name": "Untitled7.ipynb",
      "provenance": [],
      "collapsed_sections": []
    },
    "kernelspec": {
      "name": "python3",
      "display_name": "Python 3"
    }
  },
  "cells": [
    {
      "cell_type": "markdown",
      "metadata": {
        "id": "7tza8hiVdZd0",
        "colab_type": "text"
      },
      "source": [
        "# Sample Notebook"
      ]
    },
    {
      "cell_type": "markdown",
      "metadata": {
        "id": "sXRdovCpfBdt",
        "colab_type": "text"
      },
      "source": [
        "## 簡単なデータの可視化"
      ]
    },
    {
      "cell_type": "code",
      "metadata": {
        "id": "H0TntEaJcYfl",
        "colab_type": "code",
        "colab": {
          "base_uri": "https://localhost:8080/",
          "height": 295
        },
        "outputId": "b2bd3ed2-058e-450a-9edd-b52141383fb1"
      },
      "source": [
        "% matplotlib inline\n",
        "import matplotlib.pyplot as plt\n",
        "\n",
        "price = [100, 70, 110, 500, 700]\n",
        "number = [1, 2, 3, 4, 5]\n",
        "\n",
        "plt.plot(price, number)\n",
        "plt.title(\"price / num\")\n",
        "plt.xlabel(\"price\")\n",
        "\n",
        "plt.show()"
      ],
      "execution_count": 1,
      "outputs": [
        {
          "output_type": "display_data",
          "data": {
            "image/png": "[encoded data removed]",
            "text/plain": [
              "<Figure size 432x288 with 1 Axes>"
            ]
          },
          "metadata": {
            "tags": [],
            "needs_background": "light"
          }
        }
      ]
    },
    {
      "cell_type": "code",
      "metadata": {
        "id": "GjGCTUPXif1e",
        "colab_type": "code",
        "colab": {}
      },
      "source": [
        ""
      ],
      "execution_count": 0,
      "outputs": []
    }
  ]
}